{
  "cells": [
    {
      "cell_type": "code",
      "execution_count": null,
      "id": "d0197dbd",
      "metadata": {
        "id": "d0197dbd",
        "outputId": "c6877e0b-bcb1-48da-bd50-6addb584194b"
      },
      "outputs": [
        {
          "name": "stdout",
          "output_type": "stream",
          "text": [
            "<class 'pandas.core.frame.DataFrame'>\n",
            "RangeIndex: 400 entries, 0 to 399\n",
            "Data columns (total 16 columns):\n",
            " #   Column       Non-Null Count  Dtype  \n",
            "---  ------       --------------  -----  \n",
            " 0   Unnamed: 0   400 non-null    int64  \n",
            " 1   Income       400 non-null    float64\n",
            " 2   Limit        400 non-null    int64  \n",
            " 3   Rating       400 non-null    int64  \n",
            " 4   Cards        400 non-null    int64  \n",
            " 5   Age          400 non-null    int64  \n",
            " 6   Education    400 non-null    int64  \n",
            " 7   Gender-num   400 non-null    int64  \n",
            " 8   Gender       400 non-null    object \n",
            " 9   Student-num  400 non-null    int64  \n",
            " 10  Student      400 non-null    object \n",
            " 11  Married      400 non-null    object \n",
            " 12  Ethnicity    400 non-null    object \n",
            " 13  Balance      400 non-null    int64  \n",
            " 14  Defaultee    400 non-null    int64  \n",
            " 15  dcat         400 non-null    object \n",
            "dtypes: float64(1), int64(10), object(5)\n",
            "memory usage: 50.1+ KB\n",
            "Accuracy: 1.0000\n",
            "Confusion Matrix:\n",
            "[[96  0]\n",
            " [ 0 24]]\n",
            "Classification Report:\n",
            "              precision    recall  f1-score   support\n",
            "\n",
            "           0       1.00      1.00      1.00        96\n",
            "           1       1.00      1.00      1.00        24\n",
            "\n",
            "    accuracy                           1.00       120\n",
            "   macro avg       1.00      1.00      1.00       120\n",
            "weighted avg       1.00      1.00      1.00       120\n",
            "\n"
          ]
        },
        {
          "data": {
            "image/png": "[encoded data removed]",
            "text/plain": [
              "<Figure size 640x480 with 1 Axes>"
            ]
          },
          "metadata": {},
          "output_type": "display_data"
        },
        {
          "name": "stdout",
          "output_type": "stream",
          "text": [
            "       Feature     F-Value       P-Value\n",
            "0       Income   30.587183  1.947321e-07\n",
            "1        Limit   90.378059  2.955557e-16\n",
            "2       Rating   91.075672  2.421534e-16\n",
            "3        Cards    0.133908  7.150689e-01\n",
            "4          Age    0.002142  9.631614e-01\n",
            "5    Education    1.482109  2.258739e-01\n",
            "6   Gender-num    2.754467  9.963856e-02\n",
            "7  Student-num    6.464834  1.229753e-02\n",
            "8      Balance  169.903057  1.326267e-24\n"
          ]
        }
      ],
      "source": [
        "import pandas as pd\n",
        "import numpy as np\n",
        "import matplotlib.pyplot as plt\n",
        "import seaborn as sns\n",
        "\n",
        "\n",
        "SVM1=pd.read_csv('Credit-Modified.csv')\n",
        "SVM1.head()\n",
        "SVM1.info()\n",
        "SVM1.describe()\n",
        "SVM1.isnull().sum()\n",
        "SVM1.shape\n",
        "SVM1.columns\n",
        "\n",
        "SVM1['Gender']=SVM1['Gender'].map({'Male':0,'Female':1})\n",
        "SVM1['Student']=SVM1['Student'].map({'Yes':0,'No':1})\n",
        "SVM1['Married']=SVM1['Married'].map({'Yes':0,'No':1})\n",
        "#SVM1['Defaultee']=SVM1['Defaultee'].replace(['No','yes'],[0,1])\n",
        "\n",
        "\n",
        "X = SVM1.drop(['Unnamed: 0', 'Defaultee', 'Gender', 'Student', 'Married','Ethnicity','dcat'], axis=1)\n",
        "X\n",
        "\n",
        "y = SVM1['Defaultee']\n",
        "y\n",
        "\n",
        "# Split the data into training and testing sets\n",
        "from sklearn.model_selection import train_test_split\n",
        "X_train, X_test, y_train, y_test = train_test_split(X, y, test_size=0.3, random_state=1)\n",
        "\n",
        "X_train\n",
        "\n",
        "y_train\n",
        "\n",
        "X_test\n",
        "\n",
        "y_test\n",
        "\n",
        "# Create and train the SVM model\n",
        "from sklearn.svm import SVC\n",
        "model3 = SVC(kernel='linear', C=1.0, random_state=1)\n",
        "model3.fit(X_train, y_train)\n",
        "\n",
        "y_pred = model3.predict(X_test)\n",
        "\n",
        "from sklearn.metrics import accuracy_score, confusion_matrix, classification_report\n",
        "accuracy = accuracy_score(y_test, y_pred)\n",
        "conf_matrix = confusion_matrix(y_test, y_pred)\n",
        "classification_rep = classification_report(y_test, y_pred)\n",
        "\n",
        "print(f'Accuracy: {accuracy:.4f}')\n",
        "print('Confusion Matrix:')\n",
        "print(conf_matrix)\n",
        "print('Classification Report:')\n",
        "print(classification_rep)\n",
        "\n",
        "#create confusion metrics to understand the classification\n",
        "from sklearn import metrics\n",
        "conf=metrics.confusion_matrix(y_test,y_pred)\n",
        "conf\n",
        "\n",
        "from mlxtend.plotting import plot_confusion_matrix\n",
        "fig,ax=plot_confusion_matrix(conf_mat=conf)\n",
        "plt.show()\n",
        "\n",
        "\n",
        "from sklearn.feature_selection import f_classif\n",
        "\n",
        "# Perform ANOVA test for feature significance\n",
        "f_values, p_values = f_classif(X_test, y_pred)\n",
        "\n",
        "# Create a table for feature significance\n",
        "anova_results = pd.DataFrame({'Feature': X_test.columns, 'F-Value': f_values, 'P-Value': p_values})\n",
        "print(anova_results)\n",
        "\n",
        "\n",
        "\n"
      ]
    },
    {
      "cell_type": "code",
      "execution_count": null,
      "id": "fd5e0a2d",
      "metadata": {
        "id": "fd5e0a2d"
      },
      "outputs": [],
      "source": []
    }
  ],
  "metadata": {
    "kernelspec": {
      "display_name": "Python 3 (ipykernel)",
      "language": "python",
      "name": "python3"
    },
    "language_info": {
      "codemirror_mode": {
        "name": "ipython",
        "version": 3
      },
      "file_extension": ".py",
      "mimetype": "text/x-python",
      "name": "python",
      "nbconvert_exporter": "python",
      "pygments_lexer": "ipython3",
      "version": "3.11.4"
    },
    "colab": {
      "provenance": []
    }
  },
  "nbformat": 4,
  "nbformat_minor": 5
}